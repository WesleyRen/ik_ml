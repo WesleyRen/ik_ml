{
 "cells": [
  {
   "cell_type": "code",
   "execution_count": 18,
   "id": "0af2e3b1-ea4a-430a-8893-3cd77fe7ff3c",
   "metadata": {},
   "outputs": [
    {
     "name": "stdout",
     "output_type": "stream",
     "text": [
      "1. Mean:  39.0\n",
      "2. Median:  31.0\n",
      "3. Mode:  2\n",
      "4. Standard Deviation:  28.55170747958868\n",
      "5. Inter Quartile Range:  22.5\n",
      "6. Outliers [120]\n"
     ]
    },
    {
     "name": "stderr",
     "output_type": "stream",
     "text": [
      "/var/folders/wb/2dw405ts5rz4f5m67dm_n5j40000gn/T/ipykernel_37140/655302232.py:20: DeprecationWarning: the `interpolation=` argument to percentile was renamed to `method=`, which has additional options.\n",
      "Users of the modes 'nearest', 'lower', 'higher', or 'midpoint' are encouraged to review the method they used. (Deprecated NumPy 1.22)\n",
      "  iqr = stats.iqr(data)\n"
     ]
    },
    {
     "data": {
      "text/plain": [
       "(39.0, 31.0, 2, 28.55170747958868, 22.5)"
      ]
     },
     "execution_count": 18,
     "metadata": {},
     "output_type": "execute_result"
    }
   ],
   "source": [
    "import numpy as np\n",
    "import pandas as pd\n",
    "from scipy import stats\n",
    "import seaborn as sns\n",
    "\n",
    "data = np.array([25, 37, 24, 28, 2, 35, 22, 31, 53, 41, 64, 29, 120, 72, 2])\n",
    "\n",
    "def get_outliers(data, iqr):\n",
    "    Q1 = np.percentile(data, 25.0)\n",
    "    Q3 = np.percentile(data, 75.0)\n",
    "    LOWER_LIMIT = Q1 - 1.5 * iqr\n",
    "    UPPER_LIMIT = Q3 + 1.5 * iqr\n",
    "    return data[(data < LOWER_LIMIT) | (data > UPPER_LIMIT)]\n",
    "\n",
    "def get_stats(data):\n",
    "    mean = data.mean()\n",
    "    median = np.percentile(data, 50.0)\n",
    "    mode = stats.mode(data)\n",
    "    std = data.std()\n",
    "    iqr = stats.iqr(data)\n",
    "    print(\"1. Mean: \", mean)\n",
    "    print(\"2. Median: \", median)\n",
    "    print(\"3. Mode: \", mode[0][0])\n",
    "    print(\"4. Standard Deviation: \", std)\n",
    "    print(\"5. Inter Quartile Range: \", iqr)\n",
    "    print(f\"6. Outliers {get_outliers(data, iqr)}\")\n",
    "    return mean, median, mode[0][0], std, iqr\n",
    "\n",
    "get_stats(data)\n",
    "\n"
   ]
  },
  {
   "cell_type": "code",
   "execution_count": 19,
   "metadata": {},
   "outputs": [
    {
     "data": {
      "image/png": "[encoded data removed]",
      "text/plain": [
       "<Figure size 720x504 with 1 Axes>"
      ]
     },
     "metadata": {
      "needs_background": "light"
     },
     "output_type": "display_data"
    }
   ],
   "source": [
    "import matplotlib.pyplot as plt\n",
    "\n",
    "fig = plt.figure(figsize =(10, 7))\n",
    " \n",
    "# Creating plot\n",
    "plt.boxplot(data)\n",
    " \n",
    "# show plot\n",
    "plt.show()"
   ]
  },
  {
   "cell_type": "markdown",
   "metadata": {},
   "source": [
    "The scores for ten students in Maths and Science subjects are as follows:\n",
    "\n",
    "Maths: 36, 72, 24, 45, 53, 65, 23, 15, 43, 32\n",
    "Science: 52, 65, 38, 33, 59, 29, 47, 17, 40, 75\n",
    "\n",
    "Compute the Spearman rank correlation between the scores of these students."
   ]
  },
  {
   "cell_type": "code",
   "execution_count": 22,
   "metadata": {},
   "outputs": [
    {
     "name": "stdout",
     "output_type": "stream",
     "text": [
      "Spearman Rank Correlation Coefficient: 0.24848484848484853\n"
     ]
    }
   ],
   "source": [
    "import numpy as np\n",
    "from scipy.stats import spearmanr\n",
    "\n",
    "# Given data\n",
    "maths = np.array([36, 72, 24, 45, 53, 65, 23, 15, 43, 32])\n",
    "science = np.array([52, 65, 38, 33, 59, 29, 47, 17, 40, 75])\n",
    "\n",
    "# Rank the data\n",
    "rank_maths = np.argsort(maths).argsort()\n",
    "rank_science = np.argsort(science).argsort()\n",
    "\n",
    "# Calculate the differences between the ranks\n",
    "differences = rank_maths - rank_science\n",
    "\n",
    "# Square the differences\n",
    "squared_differences = differences**2\n",
    "\n",
    "# Sum the squared differences\n",
    "sum_squared_differences = np.sum(squared_differences)\n",
    "\n",
    "# Calculate the Spearman rank correlation coefficient\n",
    "n = len(maths)\n",
    "spearman_coefficient = 1 - (6 * sum_squared_differences) / (n * (n**2 - 1))\n",
    "\n",
    "# Alternatively, you can use the scipy.stats.spearmanr function\n",
    "# spearman_coefficient, _ = spearmanr(maths, science)\n",
    "\n",
    "print(\"Spearman Rank Correlation Coefficient:\", spearman_coefficient)"
   ]
  },
  {
   "cell_type": "markdown",
   "metadata": {},
   "source": [
    "In standardization, features are rescaled so that they have a mean of 0 and a standard deviation of 1. The process involves subtracting the mean of each feature from all values and then dividing by the standard deviation.\n",
    "\n",
    "By standardizing the features, you transform the data so that it has a mean of 0 and a standard deviation of 1. This can be particularly useful when dealing with machine learning algorithms that are sensitive to the scale of the features, such as gradient-based optimization algorithms.\n",
    "\n",
    "In Python, you can use libraries like scikit-learn to perform standardization easily. Here's a simple example:"
   ]
  },
  {
   "cell_type": "code",
   "execution_count": 23,
   "metadata": {},
   "outputs": [
    {
     "name": "stdout",
     "output_type": "stream",
     "text": [
      "Original data:\n",
      "[[1, 2], [3, 4], [5, 6]]\n",
      "\n",
      "Standardized data:\n",
      "[[-1.22474487 -1.22474487]\n",
      " [ 0.          0.        ]\n",
      " [ 1.22474487  1.22474487]]\n"
     ]
    }
   ],
   "source": [
    "from sklearn.preprocessing import StandardScaler\n",
    "\n",
    "# Sample data\n",
    "data = [[1, 2],\n",
    "        [3, 4],\n",
    "        [5, 6]]\n",
    "\n",
    "# Create a StandardScaler instance\n",
    "scaler = StandardScaler()\n",
    "\n",
    "# Fit the scaler on the data and transform the data\n",
    "standardized_data = scaler.fit_transform(data)\n",
    "\n",
    "print(\"Original data:\")\n",
    "print(data)\n",
    "\n",
    "print(\"\\nStandardized data:\")\n",
    "print(standardized_data)\n"
   ]
  },
  {
   "cell_type": "code",
   "execution_count": 29,
   "metadata": {},
   "outputs": [
    {
     "data": {
      "text/plain": [
       "44.5"
      ]
     },
     "execution_count": 29,
     "metadata": {},
     "output_type": "execute_result"
    }
   ],
   "source": [
    "import numpy as np\n",
    "from scipy import stats\n",
    "\n",
    "# Determine the interquartile range value for the following set of 10 numbers\n",
    "\n",
    "# 11, 17, 24, 37, 42, 50, 62, 75, 81, 83\n",
    "\n",
    "# ChatGPT\n",
    "# To calculate the interquartile range (IQR), you first need to find the first quartile (Q1) and the third quartile (Q3). The IQR is then the difference between Q3 and Q1. Here are the steps:\n",
    "\n",
    "# 1. Arrange the data in ascending order.\n",
    "# 2. Find the median (Q2), which is the middle value of the dataset.\n",
    "# 3. Find the median of the lower half of the dataset (Q1).\n",
    "# 4. Find the median of the upper half of the dataset (Q3).\n",
    "# 5. Calculate the interquartile range: IQR = Q3 - Q1.\n",
    "\n",
    "data = np.array([11, 17, 24, 37, 42, 50, 62, 75, 81, 83])\n",
    "\n",
    "q1 = np.median(data[:5])\n",
    "q3 = np.median(data[5:])\n",
    "iqr = q3 - q1\n",
    "iqr"
   ]
  }
 ],
 "metadata": {
  "kernelspec": {
   "display_name": "Python 3 (ipykernel)",
   "language": "python",
   "name": "python3"
  },
  "language_info": {
   "codemirror_mode": {
    "name": "ipython",
    "version": 3
   },
   "file_extension": ".py",
   "mimetype": "text/x-python",
   "name": "python",
   "nbconvert_exporter": "python",
   "pygments_lexer": "ipython3",
   "version": "3.9.7"
  }
 },
 "nbformat": 4,
 "nbformat_minor": 5
}
